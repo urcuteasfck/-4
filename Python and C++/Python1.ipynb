{
  "nbformat": 4,
  "nbformat_minor": 0,
  "metadata": {
    "colab": {
      "provenance": [],
      "authorship_tag": "ABX9TyMWaIWYwHsMHB/K6X2pWRCH",
      "include_colab_link": true
    },
    "kernelspec": {
      "name": "python3",
      "display_name": "Python 3"
    },
    "language_info": {
      "name": "python"
    }
  },
  "cells": [
    {
      "cell_type": "markdown",
      "metadata": {
        "id": "view-in-github",
        "colab_type": "text"
      },
      "source": [
        "<a href=\"https://colab.research.google.com/github/urcuteasfck/-4/blob/main/Python%20and%20C%2B%2B/Python1.ipynb\" target=\"_parent\"><img src=\"https://colab.research.google.com/assets/colab-badge.svg\" alt=\"Open In Colab\"/></a>"
      ]
    },
    {
      "cell_type": "code",
      "execution_count": null,
      "metadata": {
        "colab": {
          "base_uri": "https://localhost:8080/"
        },
        "id": "JZQL0ohjeap2",
        "outputId": "9b54f31d-d2b2-43a7-c82a-b5444e8fcbbd"
      },
      "outputs": [
        {
          "output_type": "stream",
          "name": "stdout",
          "text": [
            "Введите 5 элементов для массива A:\n",
            "A[0] = 1\n",
            "A[1] = 2\n",
            "A[2] = 3\n",
            "A[3] = 4\n",
            "A[4] = 5\n",
            "Введите 5 элементов для массива B:\n",
            "B[0] = 1\n",
            "B[1] = 2\n",
            "B[2] = 3\n",
            "B[3] = 4\n",
            "B[4] = 5\n",
            "Исходный массив A: 1 2 3 4 5\n",
            "Исходный массив B: 1 2 3 4 5\n",
            "Преобразованный массив A : 1.0 2.0 3.0 4.0 5.0\n",
            "Преобразованный массив B : 1.0 2.0 3.0 4.0 5.0\n"
          ]
        }
      ],
      "source": [
        "def arrays(a, b):\n",
        "    min_a = min(a)\n",
        "    min_b = min(b)\n",
        "    if min_a == 0:\n",
        "        raise ValueError(\"Ошибка: в массиве A наименьший элемент равен 0, деление невозможно!\")\n",
        "    if min_b == 0:\n",
        "        raise ValueError(\"Ошибка: в массиве B наименьший элемент равен 0, деление невозможно!\")\n",
        "    a_processed = [x / min_a for x in a]\n",
        "    b_processed = [x / min_b for x in b]\n",
        "    return a_processed, b_processed, min_a, min_b\n",
        "print(\"Введите 5 элементов для массива A:\")\n",
        "A = []\n",
        "for i in range(5):\n",
        "    element = int(input(f\"A[{i}] = \"))\n",
        "    A.append(element)\n",
        "print(\"Введите 5 элементов для массива B:\")\n",
        "B = []\n",
        "for i in range(5):\n",
        "    element = int(input(f\"B[{i}] = \"))\n",
        "    B.append(element)\n",
        "resultA, resultB, minA, minB = arrays(A, B)\n",
        "\n",
        "print(\"Исходный массив A:\", *A)\n",
        "print(\"Исходный массив B:\", *B)\n",
        "print(\"Преобразованный массив A :\", *resultA)\n",
        "print(\"Преобразованный массив B :\", *resultB)\n",
        "\n",
        "\n",
        "\n"
      ]
    }
  ]
}